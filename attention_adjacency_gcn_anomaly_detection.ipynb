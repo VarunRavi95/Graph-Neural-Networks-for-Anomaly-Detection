{
 "cells": [
  {
   "cell_type": "code",
   "execution_count": 1,
   "metadata": {},
   "outputs": [
    {
     "name": "stderr",
     "output_type": "stream",
     "text": [
      "c:\\Users\\VSIE43\\AppData\\Local\\miniconda3\\Lib\\site-packages\\tqdm\\auto.py:21: TqdmWarning: IProgress not found. Please update jupyter and ipywidgets. See https://ipywidgets.readthedocs.io/en/stable/user_install.html\n",
      "  from .autonotebook import tqdm as notebook_tqdm\n"
     ]
    }
   ],
   "source": [
    "import pandas as pd\n",
    "import os\n",
    "import numpy as np\n",
    "import torch\n",
    "import torch.nn.functional as F\n",
    "from torch_geometric.nn import GCNConv\n",
    "import torch.nn as nn\n",
    "from torch.utils.data import Dataset, DataLoader\n",
    "from tqdm import tqdm\n",
    "import matplotlib.pyplot as plt"
   ]
  },
  {
   "cell_type": "code",
   "execution_count": 137,
   "metadata": {},
   "outputs": [],
   "source": [
    "data_pth = r'C:\\Users\\VSIE43\\OneDrive - Scania CV\\Thesis\\SKAB-master\\data/'\n",
    "normal_file = 'anomaly-free/anomaly-free.csv'\n",
    "test_1 = 'other'\n",
    "test_2 = 'valve1'\n",
    "test_3 = 'valve2'\n",
    "\n",
    "df = pd.read_csv(data_pth + normal_file, sep=';')\n",
    "\n",
    "def fillin_time_gaps(df):\n",
    "    df.datetime = pd.to_datetime(df.datetime.values)\n",
    "    time_diff = np.diff(df.datetime.values)\n",
    "\n",
    "    new_time = pd.date_range(df.datetime.min(), df.datetime.max(), freq='1s')\n",
    "    missing_time = pd.DataFrame({'datetime': new_time})\n",
    "    df_new = missing_time.merge(df, on='datetime', how='left')\n",
    "\n",
    "    df_new = df_new.interpolate(method='ffill')\n",
    "    return df_new\n",
    "\n",
    "normal_data = []\n",
    "df = pd.read_csv(data_pth + normal_file, sep=';')\n",
    "normal_data.append(fillin_time_gaps(df).drop(columns=['datetime']))\n",
    "for folder in [test_2, test_3]:\n",
    "    files = os.listdir(data_pth + folder)\n",
    "    for file in files:\n",
    "        tmp = pd.read_csv(data_pth + folder + '/' + file, sep=';')\n",
    "        t = tmp[tmp.anomaly == 0]\n",
    "        t = t.drop(columns=['changepoint'])\n",
    "        normal_data.append(t)\n",
    "\n",
    "df = fillin_time_gaps(df)\n",
    "\n",
    "def min_max_normalize(df, m_m_params=None):\n",
    "    if m_m_params:\n",
    "        (min_p, max_p) = m_m_params\n",
    "    else:\n",
    "        (min_p, max_p) = df.min(), df.max()\n",
    "\n",
    "    new_df = (df - min_p) / (max_p - min_p)\n",
    "    return new_df, (min_p, max_p)\n",
    "\n",
    "data, m_m_params = min_max_normalize(df.drop(columns=['datetime']))\n",
    "\n",
    "test_df_1 = pd.read_csv(data_pth + test_1 + '/1.csv', sep=';')\n",
    "test_df_1_norm, _ = min_max_normalize(test_df_1.drop(columns=['datetime', 'anomaly', 'changepoint']), m_m_params)\n",
    "\n",
    "os.environ['CUDA_LAUNCH_BLOCKING'] = '1'\n",
    "\n",
    "def create_temporal_features(df):\n",
    "    features = []\n",
    "    for t in range(len(df)):\n",
    "        x_t = torch.tensor(df.iloc[t].values, dtype=torch.float).view(-1, 1)\n",
    "        features.append(x_t)\n",
    "    return features\n",
    "\n",
    "temporal_features_train = create_temporal_features(data)\n",
    "temporal_features_test = create_temporal_features(test_df_1_norm)\n",
    "\n",
    "def create_sliding_windows(features, window_size, stride):\n",
    "    windows = []\n",
    "    for i in range(0, len(features) - window_size, stride):\n",
    "        window = features[i:i + window_size]\n",
    "        windows.append(window)\n",
    "    return np.array(windows)\n",
    "\n",
    "window_size = 16\n",
    "stride = 1\n",
    "\n",
    "temporal_windows_train = create_sliding_windows(temporal_features_train, window_size, stride)\n",
    "temporal_windows_test = create_sliding_windows(temporal_features_test, window_size, stride)\n",
    "\n",
    "class TimeSeriesDataset(Dataset):\n",
    "    def __init__(self, windows):\n",
    "        self.windows = windows\n",
    "\n",
    "    def __len__(self):\n",
    "        return len(self.windows)\n",
    "\n",
    "    def __getitem__(self, idx):\n",
    "        window = self.windows[idx]\n",
    "        return window, window\n",
    "\n",
    "train_dataset = TimeSeriesDataset(temporal_windows_train)\n",
    "test_dataset = TimeSeriesDataset(temporal_windows_test)\n",
    "\n",
    "train_loader = DataLoader(train_dataset, batch_size=32, shuffle=False)\n",
    "test_loader = DataLoader(test_dataset, batch_size=32, shuffle=False, drop_last=False)"
   ]
  },
  {
   "cell_type": "code",
   "execution_count": 106,
   "metadata": {},
   "outputs": [],
   "source": [
    "class PositionalEncoding(nn.Module):\n",
    "    def __init__(self, hidden_dim, max_len=5000, dropout=0.3):\n",
    "        super(PositionalEncoding, self).__init__()\n",
    "        self.dropout = nn.Dropout(p=dropout)\n",
    "\n",
    "        self.encoding = torch.zeros(max_len, hidden_dim)\n",
    "        position = torch.arange(0, max_len, dtype=torch.float).unsqueeze(1)\n",
    "        div_term = torch.exp(torch.arange(0, hidden_dim, 2).float() * (-np.log(10000.0) / hidden_dim))\n",
    "        self.encoding[:, 0::2] = torch.sin(position * div_term)\n",
    "        self.encoding[:, 1::2] = torch.cos(position * div_term)\n",
    "        self.encoding = self.encoding.unsqueeze(0).transpose(0, 1)\n",
    "\n",
    "    def forward(self, x):\n",
    "        x = x + self.encoding[:x.size(0), :]\n",
    "        return self.dropout(x)\n",
    "\n",
    "# Define the AttentionAdjacencyLayer\n",
    "class AttentionAdjacencyLayer(nn.Module):\n",
    "    def __init__(self, input_dim, hidden_dim, num_heads, max_len=5000):\n",
    "        super(AttentionAdjacencyLayer, self).__init__()\n",
    "        \n",
    "        self.fc1 = nn.Linear(input_dim, hidden_dim)\n",
    "        self.fc2 = nn.Linear(hidden_dim, hidden_dim)\n",
    "\n",
    "        self.multihead_attn1 = nn.MultiheadAttention(hidden_dim, num_heads)\n",
    "        self.multihead_attn2 = nn.MultiheadAttention(hidden_dim, num_heads)\n",
    "        self.multihead_attn3 = nn.MultiheadAttention(hidden_dim, num_heads)\n",
    "        self.multihead_attn4 = nn.MultiheadAttention(hidden_dim, num_heads)\n",
    "\n",
    "        self.fc3 = nn.Linear(3 * hidden_dim, 2*hidden_dim)  # To project concatenated output back to hidden_dim\n",
    "        self.fc4 = nn.Linear(2 * hidden_dim, hidden_dim)  # To project concatenated output back to hidden_dim\n",
    "        self.fc5 = nn.Linear(hidden_dim, input_dim)\n",
    "\n",
    "        self.positional_encoding = PositionalEncoding(hidden_dim, max_len)\n",
    "        self.leakyrelu = nn.LeakyReLU()\n",
    "        self.sigmoid = nn.Sigmoid()\n",
    "\n",
    "    def forward(self, x):\n",
    "        N, W, F = x.shape  # (batch_size, window_size, num_features)\n",
    "        \n",
    "        # Apply the first linear layer to the input\n",
    "        x = self.leakyrelu(self.fc1(x))  # (N, W, hidden_dim)\n",
    "        \n",
    "        # Apply the second linear layer\n",
    "        x = self.leakyrelu(self.fc2(x))  # (N, W, hidden_dim)\n",
    "        \n",
    "        # Reshape for multihead attention\n",
    "        x = x.permute(1, 0, 2)  # (W, N, hidden_dim)\n",
    "\n",
    "        # Apply positional encoding\n",
    "        x = self.positional_encoding(x)\n",
    "\n",
    "        # Apply first multihead attention\n",
    "        attn_output1, attn_weights1 = self.multihead_attn1(x, x, x)  # (W, N, hidden_dim)\n",
    "\n",
    "        # Apply second multihead attention\n",
    "        attn_output2, attn_weights2 = self.multihead_attn2(x, x, x)  # (W, N, hidden_dim)\n",
    "        \n",
    "        # Apply third multihead attention\n",
    "        attn_output3, attn_weights3 = self.multihead_attn3(x, x, x)  # (W, N, hidden_dim)\n",
    "\n",
    "        # Apply fourth multihead attention\n",
    "        # attn_output4, attn_weights4 = self.multihead_attn4(x, x, x)  # (W, N, hidden_dim)\n",
    "\n",
    "\n",
    "        # Concatenate the outputs of all three attention layers\n",
    "        attn_output = torch.cat((attn_output1, attn_output2, attn_output3), dim=-1)  # (W, N, 3 * hidden_dim)\n",
    "\n",
    "        # Reshape back\n",
    "        attn_output = attn_output.permute(1, 0, 2)  # (N, W, 3 * hidden_dim)\n",
    "\n",
    "        # Apply the third linear layer to project back to hidden_dim\n",
    "        x = self.leakyrelu(self.fc3(attn_output))  # (N, W, hidden_dim)\n",
    "\n",
    "        # Apply the fourth linear layer to project back to hidden_dim\n",
    "        x = self.leakyrelu(self.fc4(x))  # (N, W, hidden_dim)\n",
    "\n",
    "\n",
    "        # Apply the fourth linear layer\n",
    "        x = self.fc5(x)  # (N, W, F)\n",
    "\n",
    "        # Compute the adjacency matrix\n",
    "        adj_matrix = torch.bmm(x.permute(0, 2, 1), x)  # (N, F, W) * (N, W, F) -> (N, F, F)\n",
    "\n",
    "        # Apply sigmoid to ensure values are between 0 and 1\n",
    "        adj_matrix = self.sigmoid(adj_matrix)\n",
    "        \n",
    "        return adj_matrix\n",
    "\n",
    "# Define the GCNLayer\n",
    "class GCNLayer(nn.Module):\n",
    "    def __init__(self, in_channels, out_channels):\n",
    "        super(GCNLayer, self).__init__()\n",
    "        self.conv = GCNConv(in_channels, out_channels)\n",
    "\n",
    "    def forward(self, x, edge_index, edge_weight=None):\n",
    "        return self.conv(x, edge_index, edge_weight)\n",
    "\n",
    "# Define the GNNAnomalyDetection model\n",
    "class GNNAnomalyDetection(nn.Module):\n",
    "    def __init__(self, input_dim, hidden_dim, output_dim, num_heads, dropout = 0.5):\n",
    "        super(GNNAnomalyDetection, self).__init__()\n",
    "        self.adj_layer = AttentionAdjacencyLayer(input_dim, hidden_dim, num_heads)\n",
    "        self.gcn1 = GCNLayer(input_dim, hidden_dim)\n",
    "        self.gcn2 = GCNLayer(hidden_dim, hidden_dim)\n",
    "        self.gcn3 = GCNLayer(hidden_dim, output_dim)\n",
    "        self.fc = nn.Linear(output_dim, input_dim)\n",
    "        \n",
    "        # Define activations\n",
    "        self.relu = nn.ReLU()\n",
    "        self.sigmoid = nn.Sigmoid()\n",
    "        self.dropout = nn.Dropout(p=dropout)\n",
    "    def forward(self, x):\n",
    "        N, W, F = x.shape\n",
    "        \n",
    "        adj_matrix = self.adj_layer(x)\n",
    "        edge_index, edge_weight = self.adj_to_edge_index(adj_matrix)\n",
    "\n",
    "        gcn_outputs = []\n",
    "        for t in range(W):\n",
    "            gcn_output = self.gcn1(x[:, t, :].view(-1, F), edge_index)\n",
    "            gcn_output = self.relu(gcn_output)\n",
    "            gcn_output = self.gcn2(gcn_output, edge_index)\n",
    "            gcn_output = self.relu(gcn_output)\n",
    "            gcn_output = self.gcn3(gcn_output, edge_index)\n",
    "            gcn_output = self.relu(gcn_output)\n",
    "            gcn_output = gcn_output.view(N, F, -1)\n",
    "            gcn_outputs.append(gcn_output)\n",
    "\n",
    "        gcn_outputs = torch.stack(gcn_outputs, dim=1)  # Shape: [N, W, F, output_dim]\n",
    "        gcn_outputs = gcn_outputs.view(N, W, -1)  # Shape: [N, W, F * output_dim]\n",
    "\n",
    "        x = self.fc(gcn_outputs)\n",
    "        x = self.sigmoid(x)\n",
    "        return x, adj_matrix\n",
    "\n",
    "    def adj_to_edge_index(self, adj_matrix):\n",
    "        N, F, _ = adj_matrix.shape\n",
    "        edge_index_list = []\n",
    "        edge_weight_list = []\n",
    "        for n in range(N):\n",
    "            edge_index = torch.nonzero(adj_matrix[n], as_tuple=False).t().contiguous()\n",
    "            edge_weight = adj_matrix[n][edge_index[0], edge_index[1]]\n",
    "            edge_index_list.append(edge_index)\n",
    "            edge_weight_list.append(edge_weight)\n",
    "        edge_index = torch.cat(edge_index_list, dim=1)\n",
    "        edge_weight = torch.cat(edge_weight_list)\n",
    "        return edge_index, edge_weight"
   ]
  },
  {
   "cell_type": "code",
   "execution_count": 107,
   "metadata": {},
   "outputs": [],
   "source": [
    "input_dim = temporal_windows_train.shape[-2]\n",
    "hidden_dim = 32\n",
    "output_dim = temporal_windows_train.shape[-2]\n",
    "learning_rate = 0.00001\n",
    "num_epochs = 50\n",
    "sparsity_weight = 0.5\n",
    "\n",
    "# Model, Loss, and Optimizer\n",
    "model = GNNAnomalyDetection(input_dim, hidden_dim, output_dim, num_heads=8)\n",
    "criterion = nn.SmoothL1Loss(beta=0.5)\n",
    "optimizer = torch.optim.Adam(model.parameters(), lr=learning_rate)"
   ]
  },
  {
   "cell_type": "code",
   "execution_count": 108,
   "metadata": {},
   "outputs": [
    {
     "name": "stdout",
     "output_type": "stream",
     "text": [
      "GNNAnomalyDetection(\n",
      "  (adj_layer): AttentionAdjacencyLayer(\n",
      "    (fc1): Linear(in_features=8, out_features=32, bias=True)\n",
      "    (fc2): Linear(in_features=32, out_features=32, bias=True)\n",
      "    (multihead_attn1): MultiheadAttention(\n",
      "      (out_proj): NonDynamicallyQuantizableLinear(in_features=32, out_features=32, bias=True)\n",
      "    )\n",
      "    (multihead_attn2): MultiheadAttention(\n",
      "      (out_proj): NonDynamicallyQuantizableLinear(in_features=32, out_features=32, bias=True)\n",
      "    )\n",
      "    (multihead_attn3): MultiheadAttention(\n",
      "      (out_proj): NonDynamicallyQuantizableLinear(in_features=32, out_features=32, bias=True)\n",
      "    )\n",
      "    (multihead_attn4): MultiheadAttention(\n",
      "      (out_proj): NonDynamicallyQuantizableLinear(in_features=32, out_features=32, bias=True)\n",
      "    )\n",
      "    (fc3): Linear(in_features=96, out_features=64, bias=True)\n",
      "    (fc4): Linear(in_features=64, out_features=32, bias=True)\n",
      "    (fc5): Linear(in_features=32, out_features=8, bias=True)\n",
      "    (positional_encoding): PositionalEncoding(\n",
      "      (dropout): Dropout(p=0.3, inplace=False)\n",
      "    )\n",
      "    (leakyrelu): LeakyReLU(negative_slope=0.01)\n",
      "    (sigmoid): Sigmoid()\n",
      "  )\n",
      "  (gcn1): GCNLayer(\n",
      "    (conv): GCNConv(8, 32)\n",
      "  )\n",
      "  (gcn2): GCNLayer(\n",
      "    (conv): GCNConv(32, 32)\n",
      "  )\n",
      "  (gcn3): GCNLayer(\n",
      "    (conv): GCNConv(32, 8)\n",
      "  )\n",
      "  (fc): Linear(in_features=8, out_features=8, bias=True)\n",
      "  (relu): ReLU()\n",
      "  (sigmoid): Sigmoid()\n",
      "  (dropout): Dropout(p=0.5, inplace=False)\n",
      ")\n",
      "28472\n"
     ]
    }
   ],
   "source": [
    "print(model)\n",
    "print(sum(p.numel() for p in model.parameters() if p.requires_grad))"
   ]
  },
  {
   "cell_type": "code",
   "execution_count": 109,
   "metadata": {},
   "outputs": [
    {
     "name": "stderr",
     "output_type": "stream",
     "text": [
      "Epoch 1/50: 100%|██████████| 311/311 [00:18<00:00, 16.91it/s]\n"
     ]
    },
    {
     "name": "stdout",
     "output_type": "stream",
     "text": [
      "Epoch [1/50], Loss: 0.1550\n"
     ]
    },
    {
     "name": "stderr",
     "output_type": "stream",
     "text": [
      "Epoch 2/50: 100%|██████████| 311/311 [00:17<00:00, 17.33it/s]\n"
     ]
    },
    {
     "name": "stdout",
     "output_type": "stream",
     "text": [
      "Epoch [2/50], Loss: 0.1533\n"
     ]
    },
    {
     "name": "stderr",
     "output_type": "stream",
     "text": [
      "Epoch 3/50: 100%|██████████| 311/311 [00:18<00:00, 16.62it/s]\n"
     ]
    },
    {
     "name": "stdout",
     "output_type": "stream",
     "text": [
      "Epoch [3/50], Loss: 0.1525\n"
     ]
    },
    {
     "name": "stderr",
     "output_type": "stream",
     "text": [
      "Epoch 4/50: 100%|██████████| 311/311 [00:18<00:00, 17.04it/s]\n"
     ]
    },
    {
     "name": "stdout",
     "output_type": "stream",
     "text": [
      "Epoch [4/50], Loss: 0.1516\n"
     ]
    },
    {
     "name": "stderr",
     "output_type": "stream",
     "text": [
      "Epoch 5/50: 100%|██████████| 311/311 [00:18<00:00, 16.75it/s]\n"
     ]
    },
    {
     "name": "stdout",
     "output_type": "stream",
     "text": [
      "Epoch [5/50], Loss: 0.1455\n"
     ]
    },
    {
     "name": "stderr",
     "output_type": "stream",
     "text": [
      "Epoch 6/50: 100%|██████████| 311/311 [00:18<00:00, 16.65it/s]\n"
     ]
    },
    {
     "name": "stdout",
     "output_type": "stream",
     "text": [
      "Epoch [6/50], Loss: 0.1318\n"
     ]
    },
    {
     "name": "stderr",
     "output_type": "stream",
     "text": [
      "Epoch 7/50: 100%|██████████| 311/311 [00:18<00:00, 17.20it/s]\n"
     ]
    },
    {
     "name": "stdout",
     "output_type": "stream",
     "text": [
      "Epoch [7/50], Loss: 0.1247\n"
     ]
    },
    {
     "name": "stderr",
     "output_type": "stream",
     "text": [
      "Epoch 8/50: 100%|██████████| 311/311 [00:18<00:00, 17.04it/s]\n"
     ]
    },
    {
     "name": "stdout",
     "output_type": "stream",
     "text": [
      "Epoch [8/50], Loss: 0.1214\n"
     ]
    },
    {
     "name": "stderr",
     "output_type": "stream",
     "text": [
      "Epoch 9/50: 100%|██████████| 311/311 [00:18<00:00, 17.04it/s]\n"
     ]
    },
    {
     "name": "stdout",
     "output_type": "stream",
     "text": [
      "Epoch [9/50], Loss: 0.1193\n"
     ]
    },
    {
     "name": "stderr",
     "output_type": "stream",
     "text": [
      "Epoch 10/50: 100%|██████████| 311/311 [00:18<00:00, 16.96it/s]\n"
     ]
    },
    {
     "name": "stdout",
     "output_type": "stream",
     "text": [
      "Epoch [10/50], Loss: 0.1176\n"
     ]
    },
    {
     "name": "stderr",
     "output_type": "stream",
     "text": [
      "Epoch 11/50: 100%|██████████| 311/311 [00:18<00:00, 17.22it/s]\n"
     ]
    },
    {
     "name": "stdout",
     "output_type": "stream",
     "text": [
      "Epoch [11/50], Loss: 0.1163\n"
     ]
    },
    {
     "name": "stderr",
     "output_type": "stream",
     "text": [
      "Epoch 12/50: 100%|██████████| 311/311 [00:18<00:00, 17.12it/s]\n"
     ]
    },
    {
     "name": "stdout",
     "output_type": "stream",
     "text": [
      "Epoch [12/50], Loss: 0.1151\n"
     ]
    },
    {
     "name": "stderr",
     "output_type": "stream",
     "text": [
      "Epoch 13/50: 100%|██████████| 311/311 [00:18<00:00, 17.02it/s]\n"
     ]
    },
    {
     "name": "stdout",
     "output_type": "stream",
     "text": [
      "Epoch [13/50], Loss: 0.1140\n"
     ]
    },
    {
     "name": "stderr",
     "output_type": "stream",
     "text": [
      "Epoch 14/50: 100%|██████████| 311/311 [00:18<00:00, 17.04it/s]\n"
     ]
    },
    {
     "name": "stdout",
     "output_type": "stream",
     "text": [
      "Epoch [14/50], Loss: 0.1129\n"
     ]
    },
    {
     "name": "stderr",
     "output_type": "stream",
     "text": [
      "Epoch 15/50: 100%|██████████| 311/311 [00:18<00:00, 17.04it/s]\n"
     ]
    },
    {
     "name": "stdout",
     "output_type": "stream",
     "text": [
      "Epoch [15/50], Loss: 0.1120\n"
     ]
    },
    {
     "name": "stderr",
     "output_type": "stream",
     "text": [
      "Epoch 16/50: 100%|██████████| 311/311 [00:18<00:00, 16.90it/s]\n"
     ]
    },
    {
     "name": "stdout",
     "output_type": "stream",
     "text": [
      "Epoch [16/50], Loss: 0.1110\n"
     ]
    },
    {
     "name": "stderr",
     "output_type": "stream",
     "text": [
      "Epoch 17/50: 100%|██████████| 311/311 [00:18<00:00, 17.06it/s]\n"
     ]
    },
    {
     "name": "stdout",
     "output_type": "stream",
     "text": [
      "Epoch [17/50], Loss: 0.1102\n"
     ]
    },
    {
     "name": "stderr",
     "output_type": "stream",
     "text": [
      "Epoch 18/50: 100%|██████████| 311/311 [00:18<00:00, 17.12it/s]\n"
     ]
    },
    {
     "name": "stdout",
     "output_type": "stream",
     "text": [
      "Epoch [18/50], Loss: 0.1094\n"
     ]
    },
    {
     "name": "stderr",
     "output_type": "stream",
     "text": [
      "Epoch 19/50: 100%|██████████| 311/311 [00:18<00:00, 17.01it/s]\n"
     ]
    },
    {
     "name": "stdout",
     "output_type": "stream",
     "text": [
      "Epoch [19/50], Loss: 0.1086\n"
     ]
    },
    {
     "name": "stderr",
     "output_type": "stream",
     "text": [
      "Epoch 20/50: 100%|██████████| 311/311 [00:18<00:00, 17.05it/s]\n"
     ]
    },
    {
     "name": "stdout",
     "output_type": "stream",
     "text": [
      "Epoch [20/50], Loss: 0.1079\n"
     ]
    },
    {
     "name": "stderr",
     "output_type": "stream",
     "text": [
      "Epoch 21/50: 100%|██████████| 311/311 [00:18<00:00, 16.74it/s]\n"
     ]
    },
    {
     "name": "stdout",
     "output_type": "stream",
     "text": [
      "Epoch [21/50], Loss: 0.1072\n"
     ]
    },
    {
     "name": "stderr",
     "output_type": "stream",
     "text": [
      "Epoch 22/50: 100%|██████████| 311/311 [00:18<00:00, 17.13it/s]\n"
     ]
    },
    {
     "name": "stdout",
     "output_type": "stream",
     "text": [
      "Epoch [22/50], Loss: 0.1066\n"
     ]
    },
    {
     "name": "stderr",
     "output_type": "stream",
     "text": [
      "Epoch 23/50: 100%|██████████| 311/311 [00:18<00:00, 17.27it/s]\n"
     ]
    },
    {
     "name": "stdout",
     "output_type": "stream",
     "text": [
      "Epoch [23/50], Loss: 0.1060\n"
     ]
    },
    {
     "name": "stderr",
     "output_type": "stream",
     "text": [
      "Epoch 24/50: 100%|██████████| 311/311 [00:17<00:00, 17.90it/s]\n"
     ]
    },
    {
     "name": "stdout",
     "output_type": "stream",
     "text": [
      "Epoch [24/50], Loss: 0.1055\n"
     ]
    },
    {
     "name": "stderr",
     "output_type": "stream",
     "text": [
      "Epoch 25/50: 100%|██████████| 311/311 [00:17<00:00, 17.76it/s]\n"
     ]
    },
    {
     "name": "stdout",
     "output_type": "stream",
     "text": [
      "Epoch [25/50], Loss: 0.1050\n"
     ]
    },
    {
     "name": "stderr",
     "output_type": "stream",
     "text": [
      "Epoch 26/50: 100%|██████████| 311/311 [00:17<00:00, 17.64it/s]\n"
     ]
    },
    {
     "name": "stdout",
     "output_type": "stream",
     "text": [
      "Epoch [26/50], Loss: 0.1045\n"
     ]
    },
    {
     "name": "stderr",
     "output_type": "stream",
     "text": [
      "Epoch 27/50: 100%|██████████| 311/311 [00:17<00:00, 17.67it/s]\n"
     ]
    },
    {
     "name": "stdout",
     "output_type": "stream",
     "text": [
      "Epoch [27/50], Loss: 0.1041\n"
     ]
    },
    {
     "name": "stderr",
     "output_type": "stream",
     "text": [
      "Epoch 28/50: 100%|██████████| 311/311 [00:17<00:00, 17.71it/s]\n"
     ]
    },
    {
     "name": "stdout",
     "output_type": "stream",
     "text": [
      "Epoch [28/50], Loss: 0.1036\n"
     ]
    },
    {
     "name": "stderr",
     "output_type": "stream",
     "text": [
      "Epoch 29/50: 100%|██████████| 311/311 [00:17<00:00, 17.89it/s]\n"
     ]
    },
    {
     "name": "stdout",
     "output_type": "stream",
     "text": [
      "Epoch [29/50], Loss: 0.1032\n"
     ]
    },
    {
     "name": "stderr",
     "output_type": "stream",
     "text": [
      "Epoch 30/50: 100%|██████████| 311/311 [00:17<00:00, 17.58it/s]\n"
     ]
    },
    {
     "name": "stdout",
     "output_type": "stream",
     "text": [
      "Epoch [30/50], Loss: 0.1029\n"
     ]
    },
    {
     "name": "stderr",
     "output_type": "stream",
     "text": [
      "Epoch 31/50: 100%|██████████| 311/311 [00:17<00:00, 17.94it/s]\n"
     ]
    },
    {
     "name": "stdout",
     "output_type": "stream",
     "text": [
      "Epoch [31/50], Loss: 0.1025\n"
     ]
    },
    {
     "name": "stderr",
     "output_type": "stream",
     "text": [
      "Epoch 32/50: 100%|██████████| 311/311 [00:17<00:00, 17.68it/s]\n"
     ]
    },
    {
     "name": "stdout",
     "output_type": "stream",
     "text": [
      "Epoch [32/50], Loss: 0.1022\n"
     ]
    },
    {
     "name": "stderr",
     "output_type": "stream",
     "text": [
      "Epoch 33/50: 100%|██████████| 311/311 [00:17<00:00, 17.66it/s]\n"
     ]
    },
    {
     "name": "stdout",
     "output_type": "stream",
     "text": [
      "Epoch [33/50], Loss: 0.1018\n"
     ]
    },
    {
     "name": "stderr",
     "output_type": "stream",
     "text": [
      "Epoch 34/50: 100%|██████████| 311/311 [00:17<00:00, 17.79it/s]\n"
     ]
    },
    {
     "name": "stdout",
     "output_type": "stream",
     "text": [
      "Epoch [34/50], Loss: 0.1015\n"
     ]
    },
    {
     "name": "stderr",
     "output_type": "stream",
     "text": [
      "Epoch 35/50: 100%|██████████| 311/311 [00:17<00:00, 17.91it/s]\n"
     ]
    },
    {
     "name": "stdout",
     "output_type": "stream",
     "text": [
      "Epoch [35/50], Loss: 0.1012\n"
     ]
    },
    {
     "name": "stderr",
     "output_type": "stream",
     "text": [
      "Epoch 36/50: 100%|██████████| 311/311 [00:17<00:00, 17.55it/s]\n"
     ]
    },
    {
     "name": "stdout",
     "output_type": "stream",
     "text": [
      "Epoch [36/50], Loss: 0.1009\n"
     ]
    },
    {
     "name": "stderr",
     "output_type": "stream",
     "text": [
      "Epoch 37/50: 100%|██████████| 311/311 [00:17<00:00, 17.84it/s]\n"
     ]
    },
    {
     "name": "stdout",
     "output_type": "stream",
     "text": [
      "Epoch [37/50], Loss: 0.1006\n"
     ]
    },
    {
     "name": "stderr",
     "output_type": "stream",
     "text": [
      "Epoch 38/50: 100%|██████████| 311/311 [00:17<00:00, 17.77it/s]\n"
     ]
    },
    {
     "name": "stdout",
     "output_type": "stream",
     "text": [
      "Epoch [38/50], Loss: 0.1004\n"
     ]
    },
    {
     "name": "stderr",
     "output_type": "stream",
     "text": [
      "Epoch 39/50: 100%|██████████| 311/311 [00:17<00:00, 17.71it/s]\n"
     ]
    },
    {
     "name": "stdout",
     "output_type": "stream",
     "text": [
      "Epoch [39/50], Loss: 0.1001\n"
     ]
    },
    {
     "name": "stderr",
     "output_type": "stream",
     "text": [
      "Epoch 40/50: 100%|██████████| 311/311 [00:17<00:00, 17.73it/s]\n"
     ]
    },
    {
     "name": "stdout",
     "output_type": "stream",
     "text": [
      "Epoch [40/50], Loss: 0.0999\n"
     ]
    },
    {
     "name": "stderr",
     "output_type": "stream",
     "text": [
      "Epoch 41/50: 100%|██████████| 311/311 [00:17<00:00, 17.72it/s]\n"
     ]
    },
    {
     "name": "stdout",
     "output_type": "stream",
     "text": [
      "Epoch [41/50], Loss: 0.0996\n"
     ]
    },
    {
     "name": "stderr",
     "output_type": "stream",
     "text": [
      "Epoch 42/50: 100%|██████████| 311/311 [00:17<00:00, 17.96it/s]\n"
     ]
    },
    {
     "name": "stdout",
     "output_type": "stream",
     "text": [
      "Epoch [42/50], Loss: 0.0994\n"
     ]
    },
    {
     "name": "stderr",
     "output_type": "stream",
     "text": [
      "Epoch 43/50: 100%|██████████| 311/311 [00:17<00:00, 17.54it/s]\n"
     ]
    },
    {
     "name": "stdout",
     "output_type": "stream",
     "text": [
      "Epoch [43/50], Loss: 0.0992\n"
     ]
    },
    {
     "name": "stderr",
     "output_type": "stream",
     "text": [
      "Epoch 44/50: 100%|██████████| 311/311 [00:17<00:00, 17.88it/s]\n"
     ]
    },
    {
     "name": "stdout",
     "output_type": "stream",
     "text": [
      "Epoch [44/50], Loss: 0.0990\n"
     ]
    },
    {
     "name": "stderr",
     "output_type": "stream",
     "text": [
      "Epoch 45/50: 100%|██████████| 311/311 [00:17<00:00, 17.76it/s]\n"
     ]
    },
    {
     "name": "stdout",
     "output_type": "stream",
     "text": [
      "Epoch [45/50], Loss: 0.0988\n"
     ]
    },
    {
     "name": "stderr",
     "output_type": "stream",
     "text": [
      "Epoch 46/50: 100%|██████████| 311/311 [00:19<00:00, 15.94it/s]\n"
     ]
    },
    {
     "name": "stdout",
     "output_type": "stream",
     "text": [
      "Epoch [46/50], Loss: 0.0986\n"
     ]
    },
    {
     "name": "stderr",
     "output_type": "stream",
     "text": [
      "Epoch 47/50: 100%|██████████| 311/311 [00:22<00:00, 13.74it/s]\n"
     ]
    },
    {
     "name": "stdout",
     "output_type": "stream",
     "text": [
      "Epoch [47/50], Loss: 0.0984\n"
     ]
    },
    {
     "name": "stderr",
     "output_type": "stream",
     "text": [
      "Epoch 48/50: 100%|██████████| 311/311 [00:22<00:00, 13.67it/s]\n"
     ]
    },
    {
     "name": "stdout",
     "output_type": "stream",
     "text": [
      "Epoch [48/50], Loss: 0.0982\n"
     ]
    },
    {
     "name": "stderr",
     "output_type": "stream",
     "text": [
      "Epoch 49/50: 100%|██████████| 311/311 [00:23<00:00, 13.34it/s]\n"
     ]
    },
    {
     "name": "stdout",
     "output_type": "stream",
     "text": [
      "Epoch [49/50], Loss: 0.0980\n"
     ]
    },
    {
     "name": "stderr",
     "output_type": "stream",
     "text": [
      "Epoch 50/50: 100%|██████████| 311/311 [00:22<00:00, 13.68it/s]"
     ]
    },
    {
     "name": "stdout",
     "output_type": "stream",
     "text": [
      "Epoch [50/50], Loss: 0.0978\n"
     ]
    },
    {
     "name": "stderr",
     "output_type": "stream",
     "text": [
      "\n"
     ]
    }
   ],
   "source": [
    "def train_model(train_loader, model, criterion, optimizer, num_epochs=20, sparsity_weight=1e-4):\n",
    "    for epoch in range(num_epochs):\n",
    "        model.train()\n",
    "        epoch_loss = 0\n",
    "        with tqdm(total=len(train_loader), desc=f\"Epoch {epoch+1}/{num_epochs}\") as pbar:\n",
    "            for windows, _ in train_loader:\n",
    "                optimizer.zero_grad()\n",
    "                windows = windows.squeeze(-1).type(torch.float32)\n",
    "                outputs, adj_matrix = model(windows)\n",
    "                \n",
    "                reconstruction_loss = criterion(outputs, windows)\n",
    "                sparsity_loss = torch.norm(adj_matrix, p=1)\n",
    "                loss = reconstruction_loss + sparsity_weight * sparsity_loss\n",
    "                loss.backward()\n",
    "                optimizer.step()\n",
    "                epoch_loss += loss.item()\n",
    "                pbar.update(1)\n",
    "\n",
    "        print(f'Epoch [{epoch+1}/{num_epochs}], Loss: {epoch_loss/len(train_loader):.4f}')\n",
    "\n",
    "train_model(train_loader, model=model, criterion=criterion, optimizer=optimizer, num_epochs=num_epochs)"
   ]
  },
  {
   "cell_type": "code",
   "execution_count": 138,
   "metadata": {},
   "outputs": [],
   "source": [
    "def evaluate_model(test_loader):\n",
    "    model.eval()\n",
    "    with torch.no_grad():\n",
    "        reconstruction_errors = []\n",
    "        preds = []\n",
    "        actual = []\n",
    "        adj_mats = []\n",
    "        for windows, _ in test_loader:\n",
    "            windows = windows.squeeze(-1)\n",
    "            outputs, adj_mat = model(windows) \n",
    "            reconstruction_error = np.sum((outputs.cpu().numpy()-windows.cpu().numpy())**2, axis=(1,2))\n",
    "            \n",
    "            reconstruction_errors.append(reconstruction_error)  # Convert to scalar\n",
    "            # print(torch.tensor(reconstruction_errors))\n",
    "            preds.append(outputs.cpu().numpy())\n",
    "            actual.append(windows.cpu().numpy())\n",
    "            adj_mats.append(adj_mat.cpu().numpy())\n",
    "\n",
    "    return np.concatenate(adj_mats), np.concatenate(preds), np.concatenate(actual), np.concatenate(reconstruction_errors)\n",
    "\n",
    "adj_mat, preds, actual, reconstruction_errors_test = evaluate_model(test_loader)\n",
    "adj_mat_train, preds_train, actual_train, reconstruction_errors_train = evaluate_model(train_loader)\n"
   ]
  },
  {
   "cell_type": "code",
   "execution_count": 111,
   "metadata": {},
   "outputs": [
    {
     "data": {
      "text/plain": [
       "12.158581657409666"
      ]
     },
     "execution_count": 111,
     "metadata": {},
     "output_type": "execute_result"
    },
    {
     "data": {
      "image/png": "[encoded data removed]",
      "text/plain": [
       "<Figure size 640x480 with 1 Axes>"
      ]
     },
     "metadata": {},
     "output_type": "display_data"
    }
   ],
   "source": [
    "residual_train = np.sum((preds_train-actual_train)**2, axis=(1,2))\n",
    "plt.hist(residual_train)\n",
    "\n",
    "threshold = np.percentile(residual_train, 99)\n",
    "threshold"
   ]
  },
  {
   "cell_type": "code",
   "execution_count": 155,
   "metadata": {},
   "outputs": [
    {
     "data": {
      "text/plain": [
       "30.215522483825687"
      ]
     },
     "execution_count": 155,
     "metadata": {},
     "output_type": "execute_result"
    },
    {
     "data": {
      "image/png": "[encoded data removed]",
      "text/plain": [
       "<Figure size 640x480 with 1 Axes>"
      ]
     },
     "metadata": {},
     "output_type": "display_data"
    }
   ],
   "source": [
    "plt.hist(residual_test)\n",
    "np.percentile(residual_test, 81.15)"
   ]
  },
  {
   "cell_type": "code",
   "execution_count": 180,
   "metadata": {},
   "outputs": [
    {
     "data": {
      "text/plain": [
       "30.166263224244116"
      ]
     },
     "execution_count": 180,
     "metadata": {},
     "output_type": "execute_result"
    }
   ],
   "source": [
    "from sklearn.model_selection import KFold\n",
    "\n",
    "kf = KFold(n_splits=25)\n",
    "thresholds = []\n",
    "\n",
    "for train_index, val_index in kf.split(residual_test):\n",
    "    train_losses, val_losses = residual_test[train_index], residual_test[val_index]\n",
    "    mean_loss = np.mean(train_losses)\n",
    "    std_loss = np.std(train_losses)\n",
    "    thresholds.append(mean_loss +  0.7*std_loss)\n",
    "\n",
    "final_threshold = np.mean(thresholds)\n",
    "final_threshold"
   ]
  },
  {
   "cell_type": "code",
   "execution_count": 161,
   "metadata": {},
   "outputs": [
    {
     "data": {
      "text/plain": [
       "30.90231218636036"
      ]
     },
     "execution_count": 161,
     "metadata": {},
     "output_type": "execute_result"
    }
   ],
   "source": [
    "final_threshold"
   ]
  },
  {
   "cell_type": "code",
   "execution_count": 139,
   "metadata": {},
   "outputs": [
    {
     "data": {
      "text/plain": [
       "[<matplotlib.lines.Line2D at 0x13f91770d90>]"
      ]
     },
     "execution_count": 139,
     "metadata": {},
     "output_type": "execute_result"
    },
    {
     "data": {
      "image/png": "[encoded data removed]",
      "text/plain": [
       "<Figure size 640x480 with 1 Axes>"
      ]
     },
     "metadata": {},
     "output_type": "display_data"
    }
   ],
   "source": [
    "residual_test = np.sqrt(np.sum((preds-actual)**2, axis=(1,2)))\n",
    "\n",
    "plt.plot(residual_test)\n",
    "plt.plot(test_df_1.anomaly)"
   ]
  },
  {
   "cell_type": "code",
   "execution_count": null,
   "metadata": {},
   "outputs": [],
   "source": [
    "adj_mat[1000, :, :]"
   ]
  },
  {
   "cell_type": "code",
   "execution_count": null,
   "metadata": {},
   "outputs": [],
   "source": [
    "import seaborn as sns\n",
    "\n",
    "sns.heatmap(adj_mat_train[1000, :, :])"
   ]
  },
  {
   "cell_type": "code",
   "execution_count": null,
   "metadata": {},
   "outputs": [],
   "source": [
    "adj_mat_train[1000, :, :].mean(axis=(0,1))"
   ]
  },
  {
   "cell_type": "code",
   "execution_count": null,
   "metadata": {},
   "outputs": [],
   "source": [
    "import networkx as nx\n",
    "import matplotlib.pyplot as plt\n",
    "import imageio\n",
    "import numpy as np\n",
    "\n",
    "node_labels = ['Accelerometer1RMS', 'Accelerometer2RMS', 'Current', 'Pressure',\n",
    "               'Temperature', 'Thermocouple', 'Voltage', 'Volume Flow RateRMS']\n",
    "\n",
    "# Example adjacency matrix data\n",
    "adj_mats_all = adj_mat  # Replace this with your actual adjacency matrices\n",
    "\n",
    "frames = []\n",
    "\n",
    "# Loop through the first 30 adjacency matrices to create plots\n",
    "for idx in range(30):\n",
    "    selected_matrix = adj_mats_all[idx, :, :]\n",
    "    \n",
    "    # Create a graph\n",
    "    G = nx.DiGraph()\n",
    "\n",
    "    # Add nodes with labels\n",
    "    for i, label in enumerate(node_labels):\n",
    "        G.add_node(i, label=label)\n",
    "\n",
    "    # Add edges based on the selected adjacency matrix\n",
    "    threshold = 0.51  # You can set a different threshold here if needed\n",
    "    for i in range(selected_matrix.shape[0]):\n",
    "        for j in range(selected_matrix.shape[1]):\n",
    "            if selected_matrix[i, j] > threshold:\n",
    "                G.add_edge(i, j, weight=selected_matrix[i, j])\n",
    "\n",
    "    # Get positions for the nodes in G\n",
    "    pos = nx.spring_layout(G)\n",
    "\n",
    "    # Create the plot\n",
    "    plt.figure(figsize=(10, 10))\n",
    "\n",
    "    # Draw the nodes\n",
    "    nx.draw_networkx_nodes(G, pos)\n",
    "\n",
    "    # Draw the edges\n",
    "    edges = G.edges(data=True)\n",
    "    nx.draw_networkx_edges(G, pos, edgelist=edges, edge_color='black')\n",
    "\n",
    "    # Draw the labels\n",
    "    labels = nx.get_node_attributes(G, 'label')\n",
    "    nx.draw_networkx_labels(G, pos, labels, font_size=7)\n",
    "\n",
    "    # Set the title\n",
    "    plt.title(f'Adjacency Matrix Visualization {idx+1}')\n",
    "\n",
    "    # Save the plot to a PNG file\n",
    "    frame_path = f'frame_{idx}.png'\n",
    "    plt.savefig(frame_path)\n",
    "    plt.close()\n",
    "\n",
    "    # Append the frame to the list\n",
    "    frames.append(imageio.imread(frame_path))\n",
    "\n",
    "# Create a GIF from the frames\n",
    "gif_path = 'adjacency_matrix_visualizations.gif'\n",
    "imageio.mimsave(gif_path, frames, duration=2)\n",
    "\n",
    "# Clean up the frame files\n",
    "import os\n",
    "for idx in range(30):\n",
    "    os.remove(f'frame_{idx}.png')\n",
    "\n",
    "print(f'GIF saved at {gif_path}')"
   ]
  },
  {
   "cell_type": "code",
   "execution_count": 185,
   "metadata": {},
   "outputs": [
    {
     "name": "stdout",
     "output_type": "stream",
     "text": [
      "['1.csv', '10.csv', '11.csv', '12.csv', '13.csv', '14.csv', '2.csv', '3.csv', '4.csv', '5.csv', '6.csv', '7.csv', '8.csv', '9.csv']\n"
     ]
    },
    {
     "name": "stderr",
     "output_type": "stream",
     "text": [
      "Processing files:   0%|          | 0/14 [00:00<?, ?it/s]"
     ]
    },
    {
     "name": "stdout",
     "output_type": "stream",
     "text": [
      "1.csv\n"
     ]
    },
    {
     "name": "stderr",
     "output_type": "stream",
     "text": [
      "Processing files:   7%|▋         | 1/14 [00:00<00:08,  1.45it/s]"
     ]
    },
    {
     "name": "stdout",
     "output_type": "stream",
     "text": [
      "Final Threshold:  30.166374573826793\n",
      "10.csv\n"
     ]
    },
    {
     "name": "stderr",
     "output_type": "stream",
     "text": [
      "Processing files:  14%|█▍        | 2/14 [00:01<00:08,  1.35it/s]"
     ]
    },
    {
     "name": "stdout",
     "output_type": "stream",
     "text": [
      "Final Threshold:  6.1299604368209835\n",
      "11.csv\n"
     ]
    },
    {
     "name": "stderr",
     "output_type": "stream",
     "text": [
      "Processing files:  21%|██▏       | 3/14 [00:02<00:08,  1.35it/s]"
     ]
    },
    {
     "name": "stdout",
     "output_type": "stream",
     "text": [
      "Final Threshold:  6.802175268888473\n",
      "12.csv\n"
     ]
    },
    {
     "name": "stderr",
     "output_type": "stream",
     "text": [
      "Processing files:  29%|██▊       | 4/14 [00:02<00:07,  1.42it/s]"
     ]
    },
    {
     "name": "stdout",
     "output_type": "stream",
     "text": [
      "Final Threshold:  23.651288665771485\n",
      "13.csv\n"
     ]
    },
    {
     "name": "stderr",
     "output_type": "stream",
     "text": [
      "Processing files:  36%|███▌      | 5/14 [00:03<00:05,  1.55it/s]"
     ]
    },
    {
     "name": "stdout",
     "output_type": "stream",
     "text": [
      "Final Threshold:  23.100887165069576\n",
      "14.csv\n"
     ]
    },
    {
     "name": "stderr",
     "output_type": "stream",
     "text": [
      "Processing files:  43%|████▎     | 6/14 [00:03<00:04,  1.65it/s]"
     ]
    },
    {
     "name": "stdout",
     "output_type": "stream",
     "text": [
      "Final Threshold:  7.507461067199706\n",
      "2.csv\n"
     ]
    },
    {
     "name": "stderr",
     "output_type": "stream",
     "text": [
      "Processing files:  50%|█████     | 7/14 [00:04<00:03,  1.78it/s]"
     ]
    },
    {
     "name": "stdout",
     "output_type": "stream",
     "text": [
      "Final Threshold:  30.44089151537418\n",
      "3.csv\n"
     ]
    },
    {
     "name": "stderr",
     "output_type": "stream",
     "text": [
      "Processing files:  57%|█████▋    | 8/14 [00:05<00:03,  1.68it/s]"
     ]
    },
    {
     "name": "stdout",
     "output_type": "stream",
     "text": [
      "Final Threshold:  30.30157594132423\n",
      "4.csv\n"
     ]
    },
    {
     "name": "stderr",
     "output_type": "stream",
     "text": [
      "Processing files:  64%|██████▍   | 9/14 [00:05<00:03,  1.43it/s]"
     ]
    },
    {
     "name": "stdout",
     "output_type": "stream",
     "text": [
      "Final Threshold:  30.677073882102967\n",
      "5.csv\n"
     ]
    },
    {
     "name": "stderr",
     "output_type": "stream",
     "text": [
      "Processing files:  71%|███████▏  | 10/14 [00:06<00:02,  1.44it/s]"
     ]
    },
    {
     "name": "stdout",
     "output_type": "stream",
     "text": [
      "Final Threshold:  50.22520236206056\n",
      "6.csv\n"
     ]
    },
    {
     "name": "stderr",
     "output_type": "stream",
     "text": [
      "Processing files:  79%|███████▊  | 11/14 [00:07<00:02,  1.45it/s]"
     ]
    },
    {
     "name": "stdout",
     "output_type": "stream",
     "text": [
      "Final Threshold:  41.381361984252926\n",
      "7.csv\n"
     ]
    },
    {
     "name": "stderr",
     "output_type": "stream",
     "text": [
      "Processing files:  86%|████████▌ | 12/14 [00:08<00:01,  1.48it/s]"
     ]
    },
    {
     "name": "stdout",
     "output_type": "stream",
     "text": [
      "Final Threshold:  37.10988227081299\n",
      "8.csv\n"
     ]
    },
    {
     "name": "stderr",
     "output_type": "stream",
     "text": [
      "Processing files:  93%|█████████▎| 13/14 [00:08<00:00,  1.47it/s]"
     ]
    },
    {
     "name": "stdout",
     "output_type": "stream",
     "text": [
      "Final Threshold:  4.858261011123658\n",
      "9.csv\n"
     ]
    },
    {
     "name": "stderr",
     "output_type": "stream",
     "text": [
      "Processing files: 100%|██████████| 14/14 [00:09<00:00,  1.50it/s]"
     ]
    },
    {
     "name": "stdout",
     "output_type": "stream",
     "text": [
      "Final Threshold:  44.11961670684815\n"
     ]
    },
    {
     "name": "stderr",
     "output_type": "stream",
     "text": [
      "\n"
     ]
    }
   ],
   "source": [
    "from sklearn.model_selection import KFold\n",
    "\n",
    "def evaluate_model_predictions():\n",
    "    dtype = torch.float32\n",
    "    preds = []\n",
    "    labels_tmp = []\n",
    "    file_number = []\n",
    "    residual_tmp_all = []\n",
    "    adj_mats_all = []\n",
    "\n",
    "    # Assuming data_pth and test_1 are defined globally\n",
    "    files = os.listdir(data_pth + test_1)\n",
    "    model.eval()\n",
    "    print(files)\n",
    "    \n",
    "    for file in tqdm(files, desc=\"Processing files\"):\n",
    "        print(file)\n",
    "        tmp_actual = []\n",
    "        tmp_pred = []\n",
    "        tmp = pd.read_csv(data_pth + test_1 + '/' + file, sep=';')\n",
    "\n",
    "        t = tmp.anomaly.values\n",
    "        test_df_1_tmp, _ = min_max_normalize(tmp.drop(columns=['datetime', 'anomaly', 'changepoint']), m_m_params)\n",
    "        temporal_windows_tmp = create_sliding_windows(test_df_1_tmp, window_size=16, stride=1)\n",
    "        tmp_dataset = TimeSeriesDataset(temporal_windows_tmp)\n",
    "        tmp_loader = DataLoader(tmp_dataset, batch_size=64, shuffle=False)\n",
    "\n",
    "        actual_values = []\n",
    "        predicted_values = []\n",
    "        adj_mats = []\n",
    "        with torch.no_grad():\n",
    "            for windows, _ in tmp_loader:\n",
    "                windows = windows.squeeze(-1).type(dtype)\n",
    "\n",
    "                # Get model predictions\n",
    "                outputs, adj_matrix = model(windows)\n",
    "\n",
    "                actual_values.extend(windows.numpy())\n",
    "                predicted_values.extend(outputs.numpy())\n",
    "                adj_mats.extend(adj_matrix.numpy())\n",
    "\n",
    "        residual_tmp = np.sqrt(np.sum((np.array(predicted_values) - np.array(actual_values)) ** 2, axis=(1, 2)))\n",
    "        kf = KFold(n_splits=25)\n",
    "        thresholds = []\n",
    "\n",
    "        for train_index, val_index in kf.split(residual_tmp):\n",
    "            train_losses, val_losses = residual_tmp[train_index], residual_tmp[val_index]\n",
    "            mean_loss = np.mean(train_losses)\n",
    "            std_loss = np.std(train_losses)\n",
    "            thresholds.append(mean_loss +  0.7*std_loss)\n",
    "\n",
    "        final_threshold = np.mean(thresholds)\n",
    "        print('Final Threshold: ', final_threshold)\n",
    "        residual_tmp_all.append(residual_tmp)\n",
    "        adj_mats_all.append(adj_mats)\n",
    "        labels_tmp.append(t[-len(predicted_values):])\n",
    "        i = int(file.split('.')[0])\n",
    "        file_number.append([i] * len(predicted_values))\n",
    "        preds.append(residual_tmp > final_threshold)\n",
    "    \n",
    "    preds = np.concatenate(preds, axis=0)\n",
    "    labels = np.concatenate(labels_tmp, axis=0)\n",
    "    file_number = np.concatenate(file_number, axis=0)\n",
    "    \n",
    "    return preds, labels, file_number, residual_tmp_all, adj_mats_all\n",
    "\n",
    "# Call the function and retrieve the results\n",
    "preds, labels, file_number, residual_tmp_all, adj_mats_all = evaluate_model_predictions()"
   ]
  },
  {
   "cell_type": "code",
   "execution_count": 186,
   "metadata": {},
   "outputs": [
    {
     "name": "stdout",
     "output_type": "stream",
     "text": [
      "\n",
      "f1_score\n",
      "0.8571428571428571\n",
      "0.8605341246290801\n",
      "0.9532237673830594\n",
      "0.8517006802721088\n",
      "0.9792935444579782\n",
      "0.869198312236287\n",
      "0.862295081967213\n",
      "0.0779816513761468\n",
      "0.9058663028649385\n",
      "0.7735191637630662\n",
      "0.6598837209302325\n",
      "0.8470149253731344\n",
      "0.1201716738197425\n",
      "0.8581196581196582\n",
      "\n",
      "fpr_score\n",
      "0.0\n",
      "0.0\n",
      "0.022130013831258646\n",
      "0.03461538461538462\n",
      "0.012345679012345678\n",
      "0.0\n",
      "0.0\n",
      "0.02197802197802198\n",
      "0.0\n",
      "0.16275862068965516\n",
      "0.013831258644536652\n",
      "0.0\n",
      "0.26947040498442365\n",
      "0.054514480408858604\n",
      "\n",
      "recall_score\n",
      "0.75\n",
      "0.7552083333333334\n",
      "0.9472361809045227\n",
      "0.7924050632911392\n",
      "0.9804878048780488\n",
      "0.7686567164179104\n",
      "0.7579250720461095\n",
      "0.04218362282878412\n",
      "0.827930174563591\n",
      "0.757679180887372\n",
      "0.5033259423503326\n",
      "0.7346278317152104\n",
      "0.10566037735849057\n",
      "0.8311258278145696\n",
      "\n",
      "auc_score\n",
      "0.875\n",
      "0.8776041666666667\n",
      "0.9625530835366319\n",
      "0.8788948393378774\n",
      "0.9840710629328514\n",
      "0.8843283582089552\n",
      "0.8789625360230547\n",
      "0.510102800425381\n",
      "0.9139650872817955\n",
      "0.7974602800988584\n",
      "0.744747341852898\n",
      "0.8673139158576052\n",
      "0.41809498618703345\n",
      "0.8883056737028554\n"
     ]
    }
   ],
   "source": [
    "from sklearn.metrics import confusion_matrix, f1_score, recall_score, roc_auc_score\n",
    "\n",
    "def fpr_score(true, pred):\n",
    "    tn, fp, fn, tp = confusion_matrix(true, pred).ravel()\n",
    "    return fp / (fp + tn)\n",
    "\n",
    "# Metric names and corresponding functions\n",
    "metric_functions = {\n",
    "    'f1_score': f1_score,\n",
    "    'fpr_score': fpr_score,\n",
    "    'recall_score': recall_score,\n",
    "    'auc_score': roc_auc_score,\n",
    "}\n",
    "\n",
    "def evaluate_metrics(labels, preds, file_number):\n",
    "    for metric_name, metric_function in metric_functions.items():\n",
    "        print(f\"\\n{metric_name}\")\n",
    "        for f in range(1, 15):\n",
    "            true_labels = labels[file_number == f]\n",
    "            pred_labels = preds[file_number == f]\n",
    "            if len(true_labels) == 0 or len(pred_labels) == 0:\n",
    "                continue\n",
    "            print(metric_function(true_labels, pred_labels))\n",
    "\n",
    "# Example usage\n",
    "evaluate_metrics(labels, preds, file_number)"
   ]
  },
  {
   "cell_type": "code",
   "execution_count": null,
   "metadata": {},
   "outputs": [],
   "source": [
    "import networkx as nx\n",
    "import matplotlib.pyplot as plt\n",
    "import numpy as np  # Import numpy for array operations\n",
    "import seaborn as sns\n",
    "node_labels = ['Accelerometer1RMS', 'Accelerometer2RMS', 'Current', 'Pressure',\n",
    "               'Temperature', 'Thermocouple', 'Voltage', 'Volume Flow RateRMS']\n",
    "\n",
    "# List to store the graph figures\n",
    "graph_figures = []\n",
    "\n",
    "# Loop through the adjacency matrices in adj_mats_all\n",
    "for idx, adj_matrix in enumerate(adj_mats_all):\n",
    "    # Ensure adj_matrix is a NumPy array\n",
    "    adj_matrix = np.array(adj_matrix)\n",
    "    print(sns.heatmap(adj_matrix[600, :, :]))  # Debug print to check the shape\n",
    "    \n",
    "    # Select the 600th slice\n",
    "    selected_matrix = adj_matrix[600]\n",
    "    \n",
    "    # Create a graph\n",
    "    G = nx.DiGraph()\n",
    "\n",
    "    # Add nodes with labels\n",
    "    for i, label in enumerate(node_labels):\n",
    "        G.add_node(i, label=label)\n",
    "\n",
    "    # Add edges based on the selected adjacency matrix\n",
    "    threshold = 0.6  # You can set a different threshold here if needed\n",
    "    for i in range(selected_matrix.shape[0]):\n",
    "        for j in range(selected_matrix.shape[1]):\n",
    "            if selected_matrix[i, j] > threshold:\n",
    "                G.add_edge(i, j, weight=selected_matrix[i, j])\n",
    "\n",
    "    # Get positions for the nodes in G\n",
    "    pos = nx.spring_layout(G)\n",
    "\n",
    "    # Create the plot\n",
    "    plt.figure(figsize=(10, 10))\n",
    "\n",
    "    # Draw the nodes\n",
    "    nx.draw_networkx_nodes(G, pos)\n",
    "\n",
    "    # Draw the edges\n",
    "    edges = G.edges(data=True)\n",
    "    nx.draw_networkx_edges(G, pos, edgelist=edges, edge_color='black')\n",
    "\n",
    "    # Draw the labels\n",
    "    labels_graph = nx.get_node_attributes(G, 'label')\n",
    "    nx.draw_networkx_labels(G, pos, labels_graph, font_size=7)\n",
    "\n",
    "    # Set the title\n",
    "    plt.title(f'Adjacency Matrix Visualization for Matrix {idx+1}')\n",
    "\n",
    "    # Save the figure\n",
    "    fig = plt.gcf()\n",
    "    graph_figures.append(fig)\n",
    "\n",
    "    # Optionally, show the plot\n",
    "    plt.show()\n",
    "\n",
    "# Now you have all the graph figures stored in the graph_figures list\n"
   ]
  },
  {
   "cell_type": "code",
   "execution_count": 117,
   "metadata": {},
   "outputs": [
    {
     "name": "stdout",
     "output_type": "stream",
     "text": [
      "Unexpected exception formatting exception. Falling back to standard exception\n"
     ]
    },
    {
     "name": "stderr",
     "output_type": "stream",
     "text": [
      "Traceback (most recent call last):\n",
      "  File \"c:\\Users\\VSIE43\\AppData\\Local\\miniconda3\\Lib\\site-packages\\IPython\\core\\interactiveshell.py\", line 3553, in run_code\n",
      "    exec(code_obj, self.user_global_ns, self.user_ns)\n",
      "  File \"C:\\Users\\VSIE43\\AppData\\Local\\Temp\\ipykernel_29516\\3465952271.py\", line 3, in <module>\n",
      "    tmp_df = pd.read_csv(data_pth+test_1+'/'+file, sep=';')\n",
      "             ^^^^^^^^^^^^^^^^^^^^^^^^^^^^^^^^^^^^^^^^^^^^^^\n",
      "  File \"c:\\Users\\VSIE43\\AppData\\Local\\miniconda3\\Lib\\site-packages\\pandas\\util\\_decorators.py\", line 311, in wrapper\n",
      "    and p.name not in allow_args\n",
      "       ^^^^^^^^^^^^^^^^^^^^^\n",
      "  File \"c:\\Users\\VSIE43\\AppData\\Local\\miniconda3\\Lib\\site-packages\\pandas\\io\\parsers\\readers.py\", line 586, in read_csv\n",
      "    \"\"\"Generic reader of line files.\"\"\"\n",
      "           ^^^^^^^^^^^^^^^^^^^^^^^^^^^^^\n",
      "  File \"c:\\Users\\VSIE43\\AppData\\Local\\miniconda3\\Lib\\site-packages\\pandas\\io\\parsers\\readers.py\", line 482, in _read\n",
      "  File \"c:\\Users\\VSIE43\\AppData\\Local\\miniconda3\\Lib\\site-packages\\pandas\\io\\parsers\\readers.py\", line 811, in __init__\n",
      "    filepath_or_buffer: FilePath | ReadCsvBuffer[bytes] | ReadCsvBuffer[str],\n",
      "                       ^^^^^^^^^^^^^^^^^^^^^^^^^^^^^^\n",
      "  File \"c:\\Users\\VSIE43\\AppData\\Local\\miniconda3\\Lib\\site-packages\\pandas\\io\\parsers\\readers.py\", line 1040, in _make_engine\n",
      "    dtype: DtypeArg | None = ...,\n",
      "               ^^^^^^^^^^^^^^^^^^^\n",
      "  File \"c:\\Users\\VSIE43\\AppData\\Local\\miniconda3\\Lib\\site-packages\\pandas\\io\\parsers\\c_parser_wrapper.py\", line 51, in __init__\n",
      "    Index,\n",
      "  File \"c:\\Users\\VSIE43\\AppData\\Local\\miniconda3\\Lib\\site-packages\\pandas\\io\\parsers\\base_parser.py\", line 222, in _open_handles\n",
      "    #     Dict[ColReference, DateGroups]]\n",
      "               ^^^^^^^^^^^^^^^^^^^^^^^^^^\n",
      "  File \"c:\\Users\\VSIE43\\AppData\\Local\\miniconda3\\Lib\\site-packages\\pandas\\io\\common.py\", line 702, in get_handle\n",
      "    bytes. This is not the same as `\"b\" not in mode`. If a string content is\n",
      "                 ^^^^^^^^^^^^^^^^^^^^^^^^^^^^^^^^^^^^^^^^^^^^^^^^^^^^^^^^^^^\n",
      "FileNotFoundError: [Errno 2] No such file or directory: 'C:\\\\Users\\\\VSIE43\\\\OneDrive - Scania CV\\\\Thesis\\\\SKAB-master\\\\data/other/0.csv'\n",
      "\n",
      "During handling of the above exception, another exception occurred:\n",
      "\n",
      "Traceback (most recent call last):\n",
      "  File \"c:\\Users\\VSIE43\\AppData\\Local\\miniconda3\\Lib\\site-packages\\IPython\\core\\interactiveshell.py\", line 2144, in showtraceback\n",
      "    stb = self.InteractiveTB.structured_traceback(\n",
      "          ^^^^^^^^^^^^^^^^^^^^^^^^^^^^^^^^^^^^^^^^\n",
      "  File \"c:\\Users\\VSIE43\\AppData\\Local\\miniconda3\\Lib\\site-packages\\IPython\\core\\ultratb.py\", line 1435, in structured_traceback\n",
      "    return FormattedTB.structured_traceback(\n",
      "           ^^^^^^^^^^^^^^^^^^^^^^^^^^^^^^^^^\n",
      "  File \"c:\\Users\\VSIE43\\AppData\\Local\\miniconda3\\Lib\\site-packages\\IPython\\core\\ultratb.py\", line 1326, in structured_traceback\n",
      "    return VerboseTB.structured_traceback(\n",
      "           ^^^^^^^^^^^^^^^^^^^^^^^^^^^^^^^\n",
      "  File \"c:\\Users\\VSIE43\\AppData\\Local\\miniconda3\\Lib\\site-packages\\IPython\\core\\ultratb.py\", line 1173, in structured_traceback\n",
      "    formatted_exception = self.format_exception_as_a_whole(etype, evalue, etb, number_of_lines_of_context,\n",
      "                          ^^^^^^^^^^^^^^^^^^^^^^^^^^^^^^^^^^^^^^^^^^^^^^^^^^^^^^^^^^^^^^^^^^^^^^^^^^^^^^^^\n",
      "  File \"c:\\Users\\VSIE43\\AppData\\Local\\miniconda3\\Lib\\site-packages\\IPython\\core\\ultratb.py\", line 1088, in format_exception_as_a_whole\n",
      "    frames.append(self.format_record(record))\n",
      "                  ^^^^^^^^^^^^^^^^^^^^^^^^^^\n",
      "  File \"c:\\Users\\VSIE43\\AppData\\Local\\miniconda3\\Lib\\site-packages\\IPython\\core\\ultratb.py\", line 970, in format_record\n",
      "    frame_info.lines, Colors, self.has_colors, lvals\n",
      "    ^^^^^^^^^^^^^^^^\n",
      "  File \"c:\\Users\\VSIE43\\AppData\\Local\\miniconda3\\Lib\\site-packages\\IPython\\core\\ultratb.py\", line 792, in lines\n",
      "    return self._sd.lines\n",
      "           ^^^^^^^^^^^^^^\n",
      "  File \"c:\\Users\\VSIE43\\AppData\\Local\\miniconda3\\Lib\\site-packages\\stack_data\\utils.py\", line 145, in cached_property_wrapper\n",
      "    value = obj.__dict__[self.func.__name__] = self.func(obj)\n",
      "                                               ^^^^^^^^^^^^^^\n",
      "  File \"c:\\Users\\VSIE43\\AppData\\Local\\miniconda3\\Lib\\site-packages\\stack_data\\core.py\", line 698, in lines\n",
      "    pieces = self.included_pieces\n",
      "             ^^^^^^^^^^^^^^^^^^^^\n",
      "  File \"c:\\Users\\VSIE43\\AppData\\Local\\miniconda3\\Lib\\site-packages\\stack_data\\utils.py\", line 145, in cached_property_wrapper\n",
      "    value = obj.__dict__[self.func.__name__] = self.func(obj)\n",
      "                                               ^^^^^^^^^^^^^^\n",
      "  File \"c:\\Users\\VSIE43\\AppData\\Local\\miniconda3\\Lib\\site-packages\\stack_data\\core.py\", line 649, in included_pieces\n",
      "    pos = scope_pieces.index(self.executing_piece)\n",
      "                             ^^^^^^^^^^^^^^^^^^^^\n",
      "  File \"c:\\Users\\VSIE43\\AppData\\Local\\miniconda3\\Lib\\site-packages\\stack_data\\utils.py\", line 145, in cached_property_wrapper\n",
      "    value = obj.__dict__[self.func.__name__] = self.func(obj)\n",
      "                                               ^^^^^^^^^^^^^^\n",
      "  File \"c:\\Users\\VSIE43\\AppData\\Local\\miniconda3\\Lib\\site-packages\\stack_data\\core.py\", line 628, in executing_piece\n",
      "    return only(\n",
      "           ^^^^^\n",
      "  File \"c:\\Users\\VSIE43\\AppData\\Local\\miniconda3\\Lib\\site-packages\\executing\\executing.py\", line 164, in only\n",
      "    raise NotOneValueFound('Expected one value, found 0')\n",
      "executing.executing.NotOneValueFound: Expected one value, found 0\n"
     ]
    }
   ],
   "source": [
    "tmp_anom_list = []\n",
    "for file in files:\n",
    "    tmp_df = pd.read_csv(data_pth+test_1+'/'+file, sep=';')\n",
    "    tmp_anom_list.append(tmp_df.anomaly)\n",
    "    plt.plot(tmp_df.anomaly)"
   ]
  },
  {
   "cell_type": "code",
   "execution_count": 118,
   "metadata": {},
   "outputs": [
    {
     "ename": "IndexError",
     "evalue": "list index out of range",
     "output_type": "error",
     "traceback": [
      "\u001b[1;31m---------------------------------------------------------------------------\u001b[0m",
      "\u001b[1;31mIndexError\u001b[0m                                Traceback (most recent call last)",
      "Cell \u001b[1;32mIn[118], line 10\u001b[0m\n\u001b[0;32m      7\u001b[0m ax1\u001b[38;5;241m.\u001b[39mset_ylabel(\u001b[38;5;124m'\u001b[39m\u001b[38;5;124mResiduals\u001b[39m\u001b[38;5;124m'\u001b[39m, color\u001b[38;5;241m=\u001b[39m\u001b[38;5;124m'\u001b[39m\u001b[38;5;124mb\u001b[39m\u001b[38;5;124m'\u001b[39m)\n\u001b[0;32m      9\u001b[0m ax2 \u001b[38;5;241m=\u001b[39m ax1\u001b[38;5;241m.\u001b[39mtwinx()  \u001b[38;5;66;03m# Create a second y-axis\u001b[39;00m\n\u001b[1;32m---> 10\u001b[0m ax2\u001b[38;5;241m.\u001b[39mplot(tmp_anom_list[i], \u001b[38;5;124m'\u001b[39m\u001b[38;5;124mr-\u001b[39m\u001b[38;5;124m'\u001b[39m)\n\u001b[0;32m     11\u001b[0m ax2\u001b[38;5;241m.\u001b[39mset_ylabel(\u001b[38;5;124m'\u001b[39m\u001b[38;5;124mAnomaly\u001b[39m\u001b[38;5;124m'\u001b[39m, color\u001b[38;5;241m=\u001b[39m\u001b[38;5;124m'\u001b[39m\u001b[38;5;124mr\u001b[39m\u001b[38;5;124m'\u001b[39m)\n\u001b[0;32m     12\u001b[0m ax2\u001b[38;5;241m.\u001b[39mset_ylim(\u001b[38;5;241m-\u001b[39m\u001b[38;5;241m0.1\u001b[39m, \u001b[38;5;241m1.1\u001b[39m)  \u001b[38;5;66;03m# Set limits for the anomaly axis\u001b[39;00m\n",
      "\u001b[1;31mIndexError\u001b[0m: list index out of range"
     ]
    },
    {
     "data": {
      "image/png": "[encoded data removed]",
      "text/plain": [
       "<Figure size 640x480 with 2 Axes>"
      ]
     },
     "metadata": {},
     "output_type": "display_data"
    }
   ],
   "source": [
    "for i in range(len(residual_tmp_all)):\n",
    "    fig, ax1 = plt.subplots()  # Create a new figure and axis for residuals\n",
    "\n",
    "    ax1.plot(residual_tmp_all[i], 'b-')\n",
    "    ax1.set_title(f'Residual for File {i+1}')\n",
    "    ax1.set_xlabel('Time')\n",
    "    ax1.set_ylabel('Residuals', color='b')\n",
    "\n",
    "    ax2 = ax1.twinx()  # Create a second y-axis\n",
    "    ax2.plot(tmp_anom_list[i], 'r-')\n",
    "    ax2.set_ylabel('Anomaly', color='r')\n",
    "    ax2.set_ylim(-0.1, 1.1)  # Set limits for the anomaly axis\n",
    "\n",
    "    plt.show()"
   ]
  },
  {
   "cell_type": "code",
   "execution_count": null,
   "metadata": {},
   "outputs": [],
   "source": [
    "from sklearn.model_selection import ParameterSampler\n",
    "\n",
    "def hyperparameter_search(param_grid, data, num_samples=10):\n",
    "    param_list = list(ParameterSampler(param_grid, n_iter=num_samples, random_state=42,))\n",
    "    best_model = None\n",
    "    best_score = float('-inf')\n",
    "    best_params = None\n",
    "\n",
    "    for params in tqdm(param_list, desc=\"Hyperparameter Search\"):\n",
    "        print(f\"Testing parameters: {params}\")\n",
    "        model = GNNAnomalyDetection(input_dim, hidden_dim, output_dim, num_heads=params['num_heads'])\n",
    "\n",
    "        criterion = nn.SmoothL1Loss(beta=0.5)\n",
    "        optimizer = torch.optim.Adam(model.parameters(), lr=params['learning_rate'])\n",
    "\n",
    "        \n",
    "        # temporal_windows_train = create_sliding_windows(data, window_size=16, stride=1)\n",
    "        # train_dataset = TimeSeriesDataset(temporal_windows_train)\n",
    "        # train_loader = DataLoader(train_dataset, batch_size=32, shuffle=True)\n",
    "\n",
    "        train_model(data, model, criterion, optimizer, num_epochs=params['num_epochs'], sparsity_weight=params['sparsity_weight'])\n",
    "\n",
    "        adj_mat, preds, actual = evaluate_model(train_loader)\n",
    "        score = -np.mean((preds - actual) ** 2)  # Mean squared error\n",
    "\n",
    "        if score > best_score:\n",
    "            best_score = score\n",
    "            best_model = model\n",
    "            best_params = params\n",
    "\n",
    "    print(\"Best Hyperparameters:\", best_params)\n",
    "    return best_model"
   ]
  },
  {
   "cell_type": "code",
   "execution_count": null,
   "metadata": {},
   "outputs": [],
   "source": [
    "param_grid = {\n",
    "    'input_dim': [8, 16, 32],\n",
    "    'hidden_dim': [16, 32, 64],\n",
    "    'output_dim': [8, 16, 32],\n",
    "    'num_heads': [8, 16],\n",
    "    'learning_rate': [1e-3, 1e-4, 1e-5],\n",
    "    'num_epochs': [50, 75, 50],\n",
    "    'sparsity_weight': [1e-3, 1e-4, 1e-5],\n",
    "    'dropout': [0.3, 0.5]\n",
    "}\n",
    "\n",
    "# Perform hyperparameter search\n",
    "best_model = hyperparameter_search(param_grid, data = train_loader,num_samples=10)"
   ]
  },
  {
   "cell_type": "code",
   "execution_count": null,
   "metadata": {},
   "outputs": [],
   "source": [
    "best_model"
   ]
  }
 ],
 "metadata": {
  "kernelspec": {
   "display_name": "base",
   "language": "python",
   "name": "python3"
  },
  "language_info": {
   "codemirror_mode": {
    "name": "ipython",
    "version": 3
   },
   "file_extension": ".py",
   "mimetype": "text/x-python",
   "name": "python",
   "nbconvert_exporter": "python",
   "pygments_lexer": "ipython3",
   "version": "3.11.5"
  }
 },
 "nbformat": 4,
 "nbformat_minor": 2
}
